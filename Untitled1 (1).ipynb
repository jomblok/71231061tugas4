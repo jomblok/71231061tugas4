{
  "nbformat": 4,
  "nbformat_minor": 0,
  "metadata": {
    "colab": {
      "provenance": []
    },
    "kernelspec": {
      "name": "python3",
      "display_name": "Python 3"
    },
    "language_info": {
      "name": "python"
    }
  },
  "cells": [
    {
      "cell_type": "markdown",
      "source": [
        "soal 1"
      ],
      "metadata": {
        "id": "_RdzAmSngAbP"
      }
    },
    {
      "cell_type": "code",
      "source": [
        "def cek_angka(a , b , c):\n",
        "    if a + b == c or b + c == a or a + c == b:\n",
        "        return (True)\n",
        "    else:\n",
        "        return(False)\n",
        "print (cek_angka(20 , 40 , 60))"
      ],
      "metadata": {
        "colab": {
          "base_uri": "https://localhost:8080/"
        },
        "id": "Eh5ee2YygBWn",
        "outputId": "a538a13d-38b9-447a-8e8e-845768e43f50"
      },
      "execution_count": 1,
      "outputs": [
        {
          "output_type": "stream",
          "name": "stdout",
          "text": [
            "True\n"
          ]
        }
      ]
    },
    {
      "cell_type": "markdown",
      "source": [
        "soal 2"
      ],
      "metadata": {
        "id": "CFmi72ZygJSY"
      }
    },
    {
      "cell_type": "code",
      "source": [
        "def cek_digit_belakang( a , b , c):\n",
        "    if a % 10 == b % 10 or b % 10 == c % 10 or c % 10 == a % 10:\n",
        "        return(True)\n",
        "    else :\n",
        "        return(False)\n",
        "print (cek_digit_belakang  (30, 20, 18))\n",
        "print (cek_digit_belakang  (145, 5, 100))\n",
        "print (cek_digit_belakang  (71, 187, 18))\n",
        "print (cek_digit_belakang  (1024, 14, 94))\n",
        "print (cek_digit_belakang  (53, 8900, 658))"
      ],
      "metadata": {
        "colab": {
          "base_uri": "https://localhost:8080/"
        },
        "id": "UrbjeWX9gKqZ",
        "outputId": "07a43c47-9d68-4f4a-f3e7-a902c981342f"
      },
      "execution_count": 2,
      "outputs": [
        {
          "output_type": "stream",
          "name": "stdout",
          "text": [
            "True\n",
            "True\n",
            "False\n",
            "True\n",
            "False\n"
          ]
        }
      ]
    },
    {
      "cell_type": "markdown",
      "source": [
        "soal 3"
      ],
      "metadata": {
        "id": "e5IFdraEgQ6x"
      }
    },
    {
      "cell_type": "code",
      "source": [
        "c = int (input(\"masukkan celcius = \"))\n",
        "fahrenheit = lambda c: (9/5) * c + 32\n",
        "print (int(fahrenheit(c)))\n",
        "reumer = lambda c: 0.8 * c\n",
        "print (int(reumer(c)))"
      ],
      "metadata": {
        "colab": {
          "base_uri": "https://localhost:8080/"
        },
        "id": "cICA9gANgSXH",
        "outputId": "3e0f5297-bde2-4e15-c732-8ef2bddd2e76"
      },
      "execution_count": 4,
      "outputs": [
        {
          "output_type": "stream",
          "name": "stdout",
          "text": [
            "masukkan celcius = 100\n",
            "212\n",
            "80\n"
          ]
        }
      ]
    }
  ]
}